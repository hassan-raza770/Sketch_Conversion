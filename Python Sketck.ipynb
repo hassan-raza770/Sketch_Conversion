{
 "cells": [
  {
   "cell_type": "code",
   "execution_count": null,
   "id": "9a116216",
   "metadata": {},
   "outputs": [],
   "source": [
    "import cv2\n",
    "img=cv2.imread(\"download.jpg\")\n",
    "gray_img=cv2.cvtColor(img, cv2.COLOR_BGR2GRAY)\n",
    "inverted_img = 255 - gray_img\n",
    "\n",
    "blurred=cv2.GaussianBlur(inverted_img,(45,45),0)\n",
    "inverted_blurred=255 - blurred\n",
    "\n",
    "pencil_sketch = cv2.divide(gray_img, inverted_blurred, scale=256.0)\n",
    "\n",
    "cv2.imshow(\"Original Image\", img)\n",
    "cv2.imshow(\"Pencil Sketch Of Picture\", pencil_sketch )\n",
    "cv2.waitKey(0)\n",
    "\n"
   ]
  }
 ],
 "metadata": {
  "kernelspec": {
   "display_name": "Python 3 (ipykernel)",
   "language": "python",
   "name": "python3"
  },
  "language_info": {
   "codemirror_mode": {
    "name": "ipython",
    "version": 3
   },
   "file_extension": ".py",
   "mimetype": "text/x-python",
   "name": "python",
   "nbconvert_exporter": "python",
   "pygments_lexer": "ipython3",
   "version": "3.8.9"
  }
 },
 "nbformat": 4,
 "nbformat_minor": 5
}
